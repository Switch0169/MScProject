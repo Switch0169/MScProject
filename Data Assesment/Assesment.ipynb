{
 "cells": [
  {
   "cell_type": "code",
   "execution_count": 3,
   "metadata": {},
   "outputs": [],
   "source": [
    "import pandas as pd"
   ]
  },
  {
   "cell_type": "code",
   "execution_count": 4,
   "metadata": {},
   "outputs": [],
   "source": [
    "df = pd.read_csv('train-v2.0.csv')"
   ]
  },
  {
   "cell_type": "code",
   "execution_count": 8,
   "metadata": {},
   "outputs": [
    {
     "data": {
      "text/html": [
       "<div>\n",
       "<style scoped>\n",
       "    .dataframe tbody tr th:only-of-type {\n",
       "        vertical-align: middle;\n",
       "    }\n",
       "\n",
       "    .dataframe tbody tr th {\n",
       "        vertical-align: top;\n",
       "    }\n",
       "\n",
       "    .dataframe thead th {\n",
       "        text-align: right;\n",
       "    }\n",
       "</style>\n",
       "<table border=\"1\" class=\"dataframe\">\n",
       "  <thead>\n",
       "    <tr style=\"text-align: right;\">\n",
       "      <th></th>\n",
       "      <th>id</th>\n",
       "      <th>context</th>\n",
       "      <th>question</th>\n",
       "      <th>answer_text</th>\n",
       "      <th>answer_start</th>\n",
       "      <th>is_impossible</th>\n",
       "    </tr>\n",
       "  </thead>\n",
       "  <tbody>\n",
       "    <tr>\n",
       "      <th>0</th>\n",
       "      <td>56be85543aeaaa14008c9063</td>\n",
       "      <td>beyonc giselle knowlescarter bijnse beeyonsay ...</td>\n",
       "      <td>beyonce start becoming popular</td>\n",
       "      <td>in the late 1990s</td>\n",
       "      <td>269</td>\n",
       "      <td>False</td>\n",
       "    </tr>\n",
       "    <tr>\n",
       "      <th>1</th>\n",
       "      <td>56be85543aeaaa14008c9065</td>\n",
       "      <td>beyonc giselle knowlescarter bijnse beeyonsay ...</td>\n",
       "      <td>area beyonce compete growing</td>\n",
       "      <td>singing and dancing</td>\n",
       "      <td>207</td>\n",
       "      <td>False</td>\n",
       "    </tr>\n",
       "    <tr>\n",
       "      <th>2</th>\n",
       "      <td>56be85543aeaaa14008c9066</td>\n",
       "      <td>beyonc giselle knowlescarter bijnse beeyonsay ...</td>\n",
       "      <td>beyonce leave destiny child become solo singer</td>\n",
       "      <td>2003</td>\n",
       "      <td>526</td>\n",
       "      <td>False</td>\n",
       "    </tr>\n",
       "    <tr>\n",
       "      <th>3</th>\n",
       "      <td>56bf6b0f3aeaaa14008c9601</td>\n",
       "      <td>beyonc giselle knowlescarter bijnse beeyonsay ...</td>\n",
       "      <td>city state beyonce grow</td>\n",
       "      <td>Houston, Texas</td>\n",
       "      <td>166</td>\n",
       "      <td>False</td>\n",
       "    </tr>\n",
       "    <tr>\n",
       "      <th>4</th>\n",
       "      <td>56bf6b0f3aeaaa14008c9602</td>\n",
       "      <td>beyonc giselle knowlescarter bijnse beeyonsay ...</td>\n",
       "      <td>decade beyonce become famous</td>\n",
       "      <td>late 1990s</td>\n",
       "      <td>276</td>\n",
       "      <td>False</td>\n",
       "    </tr>\n",
       "  </tbody>\n",
       "</table>\n",
       "</div>"
      ],
      "text/plain": [
       "                         id  \\\n",
       "0  56be85543aeaaa14008c9063   \n",
       "1  56be85543aeaaa14008c9065   \n",
       "2  56be85543aeaaa14008c9066   \n",
       "3  56bf6b0f3aeaaa14008c9601   \n",
       "4  56bf6b0f3aeaaa14008c9602   \n",
       "\n",
       "                                             context  \\\n",
       "0  beyonc giselle knowlescarter bijnse beeyonsay ...   \n",
       "1  beyonc giselle knowlescarter bijnse beeyonsay ...   \n",
       "2  beyonc giselle knowlescarter bijnse beeyonsay ...   \n",
       "3  beyonc giselle knowlescarter bijnse beeyonsay ...   \n",
       "4  beyonc giselle knowlescarter bijnse beeyonsay ...   \n",
       "\n",
       "                                         question          answer_text  \\\n",
       "0                  beyonce start becoming popular    in the late 1990s   \n",
       "1                    area beyonce compete growing  singing and dancing   \n",
       "2  beyonce leave destiny child become solo singer                 2003   \n",
       "3                         city state beyonce grow       Houston, Texas   \n",
       "4                    decade beyonce become famous           late 1990s   \n",
       "\n",
       "   answer_start  is_impossible  \n",
       "0           269          False  \n",
       "1           207          False  \n",
       "2           526          False  \n",
       "3           166          False  \n",
       "4           276          False  "
      ]
     },
     "execution_count": 8,
     "metadata": {},
     "output_type": "execute_result"
    }
   ],
   "source": [
    "df.head()"
   ]
  },
  {
   "cell_type": "code",
   "execution_count": 5,
   "metadata": {},
   "outputs": [
    {
     "name": "stdout",
     "output_type": "stream",
     "text": [
      "<class 'pandas.core.frame.DataFrame'>\n",
      "RangeIndex: 130319 entries, 0 to 130318\n",
      "Data columns (total 6 columns):\n",
      " #   Column         Non-Null Count   Dtype \n",
      "---  ------         --------------   ----- \n",
      " 0   id             130319 non-null  object\n",
      " 1   context        130319 non-null  object\n",
      " 2   question       130310 non-null  object\n",
      " 3   answer_text    86818 non-null   object\n",
      " 4   answer_start   130319 non-null  int64 \n",
      " 5   is_impossible  130319 non-null  bool  \n",
      "dtypes: bool(1), int64(1), object(4)\n",
      "memory usage: 5.1+ MB\n"
     ]
    }
   ],
   "source": [
    "df.info()"
   ]
  },
  {
   "cell_type": "code",
   "execution_count": 7,
   "metadata": {},
   "outputs": [
    {
     "data": {
      "text/html": [
       "<div>\n",
       "<style scoped>\n",
       "    .dataframe tbody tr th:only-of-type {\n",
       "        vertical-align: middle;\n",
       "    }\n",
       "\n",
       "    .dataframe tbody tr th {\n",
       "        vertical-align: top;\n",
       "    }\n",
       "\n",
       "    .dataframe thead th {\n",
       "        text-align: right;\n",
       "    }\n",
       "</style>\n",
       "<table border=\"1\" class=\"dataframe\">\n",
       "  <thead>\n",
       "    <tr style=\"text-align: right;\">\n",
       "      <th></th>\n",
       "      <th>answer_start</th>\n",
       "    </tr>\n",
       "  </thead>\n",
       "  <tbody>\n",
       "    <tr>\n",
       "      <th>count</th>\n",
       "      <td>130319.000000</td>\n",
       "    </tr>\n",
       "    <tr>\n",
       "      <th>mean</th>\n",
       "      <td>212.727384</td>\n",
       "    </tr>\n",
       "    <tr>\n",
       "      <th>std</th>\n",
       "      <td>264.883218</td>\n",
       "    </tr>\n",
       "    <tr>\n",
       "      <th>min</th>\n",
       "      <td>-1.000000</td>\n",
       "    </tr>\n",
       "    <tr>\n",
       "      <th>25%</th>\n",
       "      <td>-1.000000</td>\n",
       "    </tr>\n",
       "    <tr>\n",
       "      <th>50%</th>\n",
       "      <td>110.000000</td>\n",
       "    </tr>\n",
       "    <tr>\n",
       "      <th>75%</th>\n",
       "      <td>357.000000</td>\n",
       "    </tr>\n",
       "    <tr>\n",
       "      <th>max</th>\n",
       "      <td>3126.000000</td>\n",
       "    </tr>\n",
       "  </tbody>\n",
       "</table>\n",
       "</div>"
      ],
      "text/plain": [
       "        answer_start\n",
       "count  130319.000000\n",
       "mean      212.727384\n",
       "std       264.883218\n",
       "min        -1.000000\n",
       "25%        -1.000000\n",
       "50%       110.000000\n",
       "75%       357.000000\n",
       "max      3126.000000"
      ]
     },
     "execution_count": 7,
     "metadata": {},
     "output_type": "execute_result"
    }
   ],
   "source": [
    "df.describe()"
   ]
  },
  {
   "cell_type": "code",
   "execution_count": 9,
   "metadata": {},
   "outputs": [
    {
     "data": {
      "text/plain": [
       "id                   0\n",
       "context              0\n",
       "question             9\n",
       "answer_text      43501\n",
       "answer_start         0\n",
       "is_impossible        0\n",
       "dtype: int64"
      ]
     },
     "execution_count": 9,
     "metadata": {},
     "output_type": "execute_result"
    }
   ],
   "source": [
    "# unanswerable question \n",
    "df.isnull().sum()"
   ]
  },
  {
   "cell_type": "code",
   "execution_count": 11,
   "metadata": {},
   "outputs": [
    {
     "data": {
      "text/plain": [
       "43498"
      ]
     },
     "execution_count": 11,
     "metadata": {},
     "output_type": "execute_result"
    }
   ],
   "source": [
    "# question not matched\n",
    "nums_impossible_question = df[\"is_impossible\"].sum()\n",
    "nums_impossible_question"
   ]
  },
  {
   "cell_type": "code",
   "execution_count": 17,
   "metadata": {},
   "outputs": [
    {
     "data": {
      "text/html": [
       "<div>\n",
       "<style scoped>\n",
       "    .dataframe tbody tr th:only-of-type {\n",
       "        vertical-align: middle;\n",
       "    }\n",
       "\n",
       "    .dataframe tbody tr th {\n",
       "        vertical-align: top;\n",
       "    }\n",
       "\n",
       "    .dataframe thead th {\n",
       "        text-align: right;\n",
       "    }\n",
       "</style>\n",
       "<table border=\"1\" class=\"dataframe\">\n",
       "  <thead>\n",
       "    <tr style=\"text-align: right;\">\n",
       "      <th></th>\n",
       "      <th>id</th>\n",
       "      <th>context</th>\n",
       "      <th>question</th>\n",
       "      <th>answer_text</th>\n",
       "      <th>answer_start</th>\n",
       "      <th>is_impossible</th>\n",
       "    </tr>\n",
       "  </thead>\n",
       "  <tbody>\n",
       "    <tr>\n",
       "      <th>39848</th>\n",
       "      <td>570c6186b3d812140066d1b9</td>\n",
       "      <td>john personal life greatly affected reign cont...</td>\n",
       "      <td>many john known illegitimate child born remarried</td>\n",
       "      <td>NaN</td>\n",
       "      <td>568</td>\n",
       "      <td>False</td>\n",
       "    </tr>\n",
       "    <tr>\n",
       "      <th>91386</th>\n",
       "      <td>5728c3cf2ca10214002da73d</td>\n",
       "      <td>june german army marched paris declared open c...</td>\n",
       "      <td>many child came back auschwitz</td>\n",
       "      <td>NaN</td>\n",
       "      <td>373</td>\n",
       "      <td>False</td>\n",
       "    </tr>\n",
       "    <tr>\n",
       "      <th>107679</th>\n",
       "      <td>572f08f703f9891900756b50</td>\n",
       "      <td>one example omnidirectional antenna common ver...</td>\n",
       "      <td>meant area signal accepted well along conductor</td>\n",
       "      <td>NaN</td>\n",
       "      <td>628</td>\n",
       "      <td>False</td>\n",
       "    </tr>\n",
       "  </tbody>\n",
       "</table>\n",
       "</div>"
      ],
      "text/plain": [
       "                              id  \\\n",
       "39848   570c6186b3d812140066d1b9   \n",
       "91386   5728c3cf2ca10214002da73d   \n",
       "107679  572f08f703f9891900756b50   \n",
       "\n",
       "                                                  context  \\\n",
       "39848   john personal life greatly affected reign cont...   \n",
       "91386   june german army marched paris declared open c...   \n",
       "107679  one example omnidirectional antenna common ver...   \n",
       "\n",
       "                                                 question answer_text  \\\n",
       "39848   many john known illegitimate child born remarried         NaN   \n",
       "91386                      many child came back auschwitz         NaN   \n",
       "107679    meant area signal accepted well along conductor         NaN   \n",
       "\n",
       "        answer_start  is_impossible  \n",
       "39848            568          False  \n",
       "91386            373          False  \n",
       "107679           628          False  "
      ]
     },
     "execution_count": 17,
     "metadata": {},
     "output_type": "execute_result"
    }
   ],
   "source": [
    "mismatches = df[(df[\"answer_text\"].isnull() ) & (df['is_impossible'] == False)]\n",
    "mismatches"
   ]
  },
  {
   "cell_type": "markdown",
   "metadata": {},
   "source": [
    "## check the original text\n",
    "\n",
    "- copy\n",
    "\n",
    "```\n",
    "{\"question\": \"How many of John's known illegitimate children were born after he remarried?\", \"id\": \"570c6186b3d812140066d1b9\", \"answers\": [{\"text\": \"None\", \"answer_start\": 568}], \"is_impossible\": false}]\n",
    "{\"question\": \"How many children came back from Auschwitz?\", \"id\": \"5728c3cf2ca10214002da73d\", \"answers\": [{\"text\": \"None\", \"answer_start\": 373}], \"is_impossible\": false}\n",
    "{\"text\": \"horizontally\", \"answer_start\": 384}], \"is_impossible\": false}, {\"question\": \"What is meant by the area where signals cannot be accepted well along the conductor?\", \"id\": \"572f08f703f9891900756b50\", \"answers\": [{\"text\": \"null\", \"answer_start\": 628}], \"is_impossible\": false}\n",
    "```"
   ]
  },
  {
   "cell_type": "code",
   "execution_count": 25,
   "metadata": {},
   "outputs": [
    {
     "data": {
      "text/plain": [
       "id                                        570c6186b3d812140066d1b9\n",
       "context          john personal life greatly affected reign cont...\n",
       "question         many john known illegitimate child born remarried\n",
       "answer_text                                                    NaN\n",
       "answer_start                                                   568\n",
       "is_impossible                                                False\n",
       "Name: 39848, dtype: object"
      ]
     },
     "execution_count": 25,
     "metadata": {},
     "output_type": "execute_result"
    }
   ],
   "source": [
    "df.iloc[39848]"
   ]
  },
  {
   "cell_type": "code",
   "execution_count": 26,
   "metadata": {},
   "outputs": [],
   "source": [
    "df.iloc[39848, 3] = \"None\"\n",
    "df.iloc[91386, 3] = \"None\"\n",
    "df.iloc[107679, 3] = \"null\""
   ]
  },
  {
   "cell_type": "code",
   "execution_count": 28,
   "metadata": {},
   "outputs": [
    {
     "name": "stderr",
     "output_type": "stream",
     "text": [
      "c:\\Users\\15710\\Anaconda3\\envs\\pytorch\\lib\\site-packages\\seaborn\\_oldcore.py:1498: FutureWarning: is_categorical_dtype is deprecated and will be removed in a future version. Use isinstance(dtype, CategoricalDtype) instead\n",
      "  if pd.api.types.is_categorical_dtype(vector):\n",
      "c:\\Users\\15710\\Anaconda3\\envs\\pytorch\\lib\\site-packages\\seaborn\\_oldcore.py:1119: FutureWarning: use_inf_as_na option is deprecated and will be removed in a future version. Convert inf values to NaN before operating instead.\n",
      "  with pd.option_context('mode.use_inf_as_na', True):\n"
     ]
    },
    {
     "data": {
      "image/png": "[encoded data removed]",
      "text/plain": [
       "<Figure size 1000x600 with 1 Axes>"
      ]
     },
     "metadata": {},
     "output_type": "display_data"
    }
   ],
   "source": [
    "import matplotlib.pyplot as plt\n",
    "import seaborn as sns\n",
    "\n",
    "df['question_length'] = df['question'].str.len()\n",
    "plt.figure(figsize=(10, 6))\n",
    "sns.histplot(df['question_length'], kde=True)\n",
    "plt.title('Distribution of Question Lengths')\n",
    "plt.xlabel('Question Length')\n",
    "plt.ylabel('Count')\n",
    "plt.show()"
   ]
  },
  {
   "cell_type": "code",
   "execution_count": 30,
   "metadata": {},
   "outputs": [
    {
     "data": {
      "image/png": "[encoded data removed]",
      "text/plain": [
       "<Figure size 800x800 with 1 Axes>"
      ]
     },
     "metadata": {},
     "output_type": "display_data"
    }
   ],
   "source": [
    "answerable = df['is_impossible'].value_counts(normalize=True)\n",
    "plt.figure(figsize=(8, 8))\n",
    "plt.pie(answerable, labels=['Answerable', 'Impossible'], autopct='%1.1f%%')\n",
    "plt.title('Proportion of Answerable vs Impossible Questions')\n",
    "plt.show()"
   ]
  }
 ],
 "metadata": {
  "kernelspec": {
   "display_name": "pytorch",
   "language": "python",
   "name": "python3"
  },
  "language_info": {
   "codemirror_mode": {
    "name": "ipython",
    "version": 3
   },
   "file_extension": ".py",
   "mimetype": "text/x-python",
   "name": "python",
   "nbconvert_exporter": "python",
   "pygments_lexer": "ipython3",
   "version": "3.9.18"
  }
 },
 "nbformat": 4,
 "nbformat_minor": 2
}
